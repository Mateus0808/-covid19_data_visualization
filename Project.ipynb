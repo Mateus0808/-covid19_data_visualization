{
  "nbformat": 4,
  "nbformat_minor": 0,
  "metadata": {
    "colab": {
      "name": "Projeto",
      "provenance": [],
      "collapsed_sections": [],
      "authorship_tag": "ABX9TyP0y3TdlI6NJ1QxCJNZd6+N",
      "include_colab_link": true
    },
    "kernelspec": {
      "name": "python3",
      "display_name": "Python 3"
    }
  },
  "cells": [
    {
      "cell_type": "markdown",
      "metadata": {
        "id": "view-in-github",
        "colab_type": "text"
      },
      "source": [
        "<a href=\"https://colab.research.google.com/github/Mateus0808/-covid19_data_visualization/blob/master/Project.ipynb\" target=\"_parent\"><img src=\"https://colab.research.google.com/assets/colab-badge.svg\" alt=\"Open In Colab\"/></a>"
      ]
    },
    {
      "cell_type": "code",
      "metadata": {
        "id": "HGp6Cha3nHsQ"
      },
      "source": [
        "import pandas as pd\n",
        "import matplotlib.pyplot as plt"
      ],
      "execution_count": 95,
      "outputs": []
    },
    {
      "cell_type": "code",
      "metadata": {
        "id": "URaGL6kanLk_"
      },
      "source": [
        "link = \"https://www.gstatic.com/covid19/mobility/Global_Mobility_Report.csv\"\n",
        "data = pd.read_csv(link)"
      ],
      "execution_count": null,
      "outputs": []
    },
    {
      "cell_type": "code",
      "metadata": {
        "id": "JbbqeVsBWk1z"
      },
      "source": [
        "data.head()"
      ],
      "execution_count": null,
      "outputs": []
    },
    {
      "cell_type": "code",
      "metadata": {
        "id": "1pVV3xErovX4"
      },
      "source": [
        "data_br = data.loc[data.country_region == \"Brazil\",:].iloc[:,[1,2,3,7,8,9,10,11,12,13]].copy()\n",
        "data_br.columns = [\"country\", \"state\", \"city\", \"date\", \"retail\", \"grocery\", \"parks\", \"transit\", \"workplaces\", \"residential\"]\n",
        "data_br.date = pd.to_datetime(data_br.date)\n",
        "data_br.index = data_br.date\n",
        "data_br.drop(labels=\"date\", axis=1, inplace=True)"
      ],
      "execution_count": 99,
      "outputs": []
    },
    {
      "cell_type": "code",
      "metadata": {
        "id": "BWeXX4Cvpf9i"
      },
      "source": [
        "data_br.head()"
      ],
      "execution_count": null,
      "outputs": []
    },
    {
      "cell_type": "code",
      "metadata": {
        "id": "SAX23KuZUaJo"
      },
      "source": [
        "data_br.state.unique()"
      ],
      "execution_count": null,
      "outputs": []
    },
    {
      "cell_type": "code",
      "metadata": {
        "id": "TX1suqs-njgl"
      },
      "source": [
        "data_br.state = data_br.state.str.replace(\"State of \", \"\")"
      ],
      "execution_count": 102,
      "outputs": []
    },
    {
      "cell_type": "code",
      "metadata": {
        "id": "hkQXY-vangcj"
      },
      "source": [
        "data_br_state = data_br.loc[~data_br.state.isnull() & data_br.city.isnull()].copy()"
      ],
      "execution_count": 103,
      "outputs": []
    },
    {
      "cell_type": "code",
      "metadata": {
        "id": "rjNXnzi3nYZ1"
      },
      "source": [
        "fig, ax = plt.subplots(nrows=1, ncols=5, figsize=(16,4))\n",
        "\n",
        "item = \"retail\" #grocery, parks, transit, workplaces, residential\n",
        "states = [\"Rio Grande do Norte\", \"São Paulo\", \"Amazonas\", \"Ceará\", \"Rio de Janeiro\"]\n",
        "\n",
        "for i,state in enumerate(states):\n",
        "  data_br_state.groupby(by=[data_br_state.index, \"state\"]).mean().unstack()[item].rolling(window=7).mean().plot(\n",
        "      legend=False, color=\"grey\", linewidth=1, alpha=0.4, ax=ax[i])\n",
        "  data_br_state.groupby(by=[data_br_state.index, \"state\"]).mean().unstack()[item][state].rolling(window=7).mean().plot(\n",
        "      legend=False, color=\"blue\", linewidth=7, alpha=0.6, ax=ax[i])\n",
        "\n",
        "  ax[i].set_title(state, fontsize=12)\n",
        "  ax[i].xaxis.grid(False)\n",
        "  ax[i].set_xlabel(\"\")\n",
        "\n",
        "  ax[i].set_xticklabels([\"\", \"Mar\", \"\", \"\", \"\", \"\", \"\", \"Sep\"])\n",
        "  ax[i].xaxis.set_tick_params(labelsize=9)\n",
        "  ax[i].yaxis.set_tick_params(labelsize=9)\n",
        "  \n",
        "  ax[i].set_ylim(-100)\n",
        "\n",
        "  if(i==0) or (i==4):\n",
        "    ax[i].yaxis.tick_right()\n",
        "  else:\n",
        "    ax[i].set_yticklabels([])\n",
        "  \n",
        "plt.savefig(\"states.png\", dpi=300)\n",
        "plt.show()"
      ],
      "execution_count": null,
      "outputs": []
    }
  ]
}